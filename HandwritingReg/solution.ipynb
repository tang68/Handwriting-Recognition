{
 "cells": [
  {
   "cell_type": "code",
   "execution_count": 5,
   "metadata": {},
   "outputs": [],
   "source": [
    "from keras.datasets import mnist \n",
    "from keras.models import Sequential  \n",
    "from keras.layers import Dense  \n",
    "from keras.layers import Dropout  \n",
    "from keras.layers import Flatten  \n",
    "import numpy as np\n",
    "import cv2\n",
    "import matplotlib. pyplot as plt \n",
    "from matplotlib import pyplot as plt\n",
    "from keras.layers.convolutional import Conv2D  \n",
    "from keras.layers.convolutional import MaxPooling2D  \n",
    "from keras.utils import np_utils \n",
    "from keras import backend as K \n",
    "K.set_image_dim_ordering ( 'th' )\n"
   ]
  },
  {
   "cell_type": "code",
   "execution_count": 6,
   "metadata": {},
   "outputs": [],
   "source": [
    "\n",
    "#Divided the data into subsets of training and testing.\n",
    "(X_train, y_train), (X_test, y_test) = mnist.load_data( )\n",
    "# Since we are working in gray scale we can\n",
    "# set the depth to the value 1.\n",
    "X_train = X_train.reshape(X_train.shape[0], 1, 28, 28).astype('float32')\n",
    "X_test = X_test.reshape(X_test.shape[0], 1, 28, 28 ).astype('float32')\n",
    "# We normalize our data according to the\n",
    "X_train = X_train / 255\n",
    "X_test = X_test / 255\n",
    "# Converts y_train and y_test, which are class vectors, to a binary class array (one-hot vectors)\n",
    "y_train = np_utils. to_categorical(y_train)\n",
    "y_test = np_utils. to_categorical(y_test)\n",
    "# Number of digit types found in MNIST. In this case, the value is 10, corresponding to (0,1,2,3,4,5,6,7,8,9).\n",
    "num_classes = y_test.shape [1]\n"
   ]
  },
  {
   "cell_type": "code",
   "execution_count": 7,
   "metadata": {},
   "outputs": [],
   "source": [
    "def deeper_cnn_model():\n",
    "    model = Sequential ( )\n",
    "    model.add(Conv2D (30, ( 5, 5 ), input_shape = ( 1 , 28 , 28 ), activation = 'relu' ) )\n",
    "    model.add(MaxPooling2D ( pool_size = ( 2 , 2 )))\n",
    "    model.add(Conv2D (15, (3, 3), activation = 'relu' ) )\n",
    "    model.add(MaxPooling2D ( pool_size = ( 2 , 2 ) ) )\n",
    "    model.add(Dropout ( 0.2 ) )\n",
    "    model.add(Flatten ( ) )\n",
    "    model.add(Dense ( 128 , activation = 'relu' ) )\n",
    "    model.add(Dense ( 64 , activation = 'relu' ) )\n",
    "    model.add(Dense ( 32 , activation = 'relu' ) )\n",
    "    model.add(Dense ( num_classes, activation = 'softmax' , name = 'predict' ) )\n",
    "    model.compile(loss = 'categorical_crossentropy', optimizer = 'adam', metrics = ['accuracy'])\n",
    "    return model\n",
    "\n"
   ]
  },
  {
   "cell_type": "code",
   "execution_count": 8,
   "metadata": {},
   "outputs": [],
   "source": [
    "\n",
    "model = deeper_cnn_model()\n"
   ]
  },
  {
   "cell_type": "code",
   "execution_count": 9,
   "metadata": {},
   "outputs": [
    {
     "name": "stdout",
     "output_type": "stream",
     "text": [
      "Train on 60000 samples, validate on 10000 samples\n",
      "Epoch 1/1\n",
      "60000/60000 [==============================] - 183s 3ms/step - loss: 0.2919 - acc: 0.9096 - val_loss: 0.0777 - val_acc: 0.9750\n"
     ]
    },
    {
     "data": {
      "text/plain": [
       "<keras.callbacks.History at 0x181ee5d090>"
      ]
     },
     "execution_count": 9,
     "metadata": {},
     "output_type": "execute_result"
    }
   ],
   "source": [
    "model.fit(X_train, y_train, validation_data = (X_test, y_test), epochs=10, batch_size=100)"
   ]
  },
  {
   "cell_type": "code",
   "execution_count": 10,
   "metadata": {},
   "outputs": [
    {
     "name": "stdout",
     "output_type": "stream",
     "text": [
      "\n",
      "acc: 97.50%\n"
     ]
    }
   ],
   "source": [
    "scores = model.evaluate ( X_test , y_test, verbose = 0 )\n",
    "print ( \"\\nacc: %.2f%%\" % (scores[1] * 100)) \n"
   ]
  },
  {
   "cell_type": "code",
   "execution_count": 11,
   "metadata": {},
   "outputs": [
    {
     "data": {
      "text/plain": [
       "<matplotlib.image.AxesImage at 0x181c53ad10>"
      ]
     },
     "execution_count": 11,
     "metadata": {},
     "output_type": "execute_result"
    },
    {
     "data": {
      "image/png": "[encoded data removed]",
      "text/plain": [
       "<matplotlib.figure.Figure at 0x181f507e50>"
      ]
     },
     "metadata": {},
     "output_type": "display_data"
    }
   ],
   "source": [
    "img_pred = cv2.imread ('num8.png', 0)\n",
    "plt.imshow(img_pred, cmap='gray')"
   ]
  },
  {
   "cell_type": "code",
   "execution_count": 12,
   "metadata": {},
   "outputs": [
    {
     "name": "stdout",
     "output_type": "stream",
     "text": [
      "(2, 'with probability of', '100.00 %')\n"
     ]
    }
   ],
   "source": [
    "if img_pred.shape != [ 28 , 28 ]:\n",
    "    img2 = cv2.resize ( img_pred, ( 28 , 28 ) )\n",
    "    img_pred = img2.reshape ( 28 , 28 , - 1 ) ;\n",
    "else :\n",
    "    img_pred = img_pred.reshape ( 28 , 28 , - 1 ) ;\n",
    "    \n",
    "# here also we inform the value for the depth = 1, number of rows and columns, which correspond 28x28 of the image.\n",
    "img_pred = img_pred.reshape( 1 , 1 , 28 , 28 )\n",
    "pred = model.predict_classes(img_pred)\n",
    "pred_proba = model.predict_proba ( img_pred )\n",
    "pred_proba = \"%.2f %%\" % (pred_proba[0][pred] * 100) \n",
    "print (pred[0] , \"with probability of\" , pred_proba )\n"
   ]
  },
  {
   "cell_type": "code",
   "execution_count": null,
   "metadata": {},
   "outputs": [],
   "source": []
  },
  {
   "cell_type": "code",
   "execution_count": null,
   "metadata": {},
   "outputs": [],
   "source": []
  },
  {
   "cell_type": "code",
   "execution_count": null,
   "metadata": {},
   "outputs": [],
   "source": []
  }
 ],
 "metadata": {
  "kernelspec": {
   "display_name": "Python 2",
   "language": "python",
   "name": "python2"
  },
  "language_info": {
   "codemirror_mode": {
    "name": "ipython",
    "version": 2
   },
   "file_extension": ".py",
   "mimetype": "text/x-python",
   "name": "python",
   "nbconvert_exporter": "python",
   "pygments_lexer": "ipython2",
   "version": "2.7.14"
  }
 },
 "nbformat": 4,
 "nbformat_minor": 2
}
