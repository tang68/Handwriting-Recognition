{
 "cells": [
  {
   "cell_type": "code",
   "execution_count": 132,
   "metadata": {},
   "outputs": [],
   "source": [
    "from keras.datasets import mnist \n",
    "from keras.models import Sequential  \n",
    "from keras.layers import Dense  \n",
    "from keras.layers import Dropout  \n",
    "from keras.layers import Flatten  \n",
    "import numpy as np\n",
    "import cv2\n",
    "import matplotlib. pyplot as plt \n",
    "from matplotlib import pyplot as plt\n",
    "from keras.layers.convolutional import Conv2D  \n",
    "from keras.layers.convolutional import MaxPooling2D  \n",
    "from keras.utils import np_utils \n",
    "from keras import backend as K \n",
    "K.set_image_dim_ordering ( 'th' )\n"
   ]
  },
  {
   "cell_type": "code",
   "execution_count": 133,
   "metadata": {},
   "outputs": [],
   "source": [
    "\n",
    "#Divided the data into subsets of training and testing.\n",
    "(X_train, y_train), (X_test, y_test) = mnist.load_data( )\n",
    "# Since we are working in gray scale we can\n",
    "# set the depth to the value 1.\n",
    "X_train = X_train.reshape(X_train.shape[0], 1, 28, 28).astype('float32')\n",
    "X_test = X_test.reshape(X_test.shape[0], 1, 28, 28 ).astype('float32')\n",
    "# We normalize our data according to the\n",
    "X_train = X_train / 255\n",
    "X_test = X_test / 255\n",
    "# Converts y_train and y_test, which are class vectors, to a binary class array (one-hot vectors)\n",
    "y_train = np_utils. to_categorical(y_train)\n",
    "y_test = np_utils. to_categorical(y_test)\n",
    "# Number of digit types found in MNIST. In this case, the value is 10, corresponding to (0,1,2,3,4,5,6,7,8,9).\n",
    "num_classes = y_test.shape [1]\n"
   ]
  },
  {
   "cell_type": "code",
   "execution_count": 134,
   "metadata": {},
   "outputs": [],
   "source": [
    "def deeper_cnn_model():\n",
    "    model = Sequential ( )\n",
    "    model.add(Conv2D (30, ( 5, 5 ), input_shape = ( 1 , 28 , 28 ), activation = 'relu' ) )\n",
    "    model.add(MaxPooling2D ( pool_size = ( 2 , 2 )))\n",
    "    model.add(Conv2D (15, (3, 3), activation = 'relu' ) )\n",
    "    model.add(MaxPooling2D ( pool_size = ( 2 , 2 ) ) )\n",
    "    model.add(Dropout ( 0.2 ) )\n",
    "    model.add(Flatten ( ) )\n",
    "    model.add(Dense ( 128 , activation = 'relu' ) )\n",
    "    model.add(Dense ( 64 , activation = 'relu' ) )\n",
    "    model.add(Dense ( 32 , activation = 'relu' ) )\n",
    "    model.add(Dense ( num_classes, activation = 'softmax' , name = 'predict' ) )\n",
    "    model.compile(loss = 'categorical_crossentropy', optimizer = 'adam', metrics = ['accuracy'])\n",
    "    return model\n",
    "\n"
   ]
  },
  {
   "cell_type": "code",
   "execution_count": 136,
   "metadata": {},
   "outputs": [],
   "source": [
    "\n",
    "model = deeper_cnn_model()\n"
   ]
  },
  {
   "cell_type": "code",
   "execution_count": 155,
   "metadata": {},
   "outputs": [
    {
     "name": "stdout",
     "output_type": "stream",
     "text": [
      "Train on 60000 samples, validate on 10000 samples\n",
      "Epoch 1/15\n",
      "60000/60000 [==============================] - 228s 4ms/step - loss: 0.0390 - acc: 0.9871 - val_loss: 0.0333 - val_acc: 0.9893\n",
      "Epoch 2/15\n",
      "60000/60000 [==============================] - 235s 4ms/step - loss: 0.0309 - acc: 0.9899 - val_loss: 0.0305 - val_acc: 0.9907\n",
      "Epoch 3/15\n",
      "60000/60000 [==============================] - 238s 4ms/step - loss: 0.0295 - acc: 0.9907 - val_loss: 0.0272 - val_acc: 0.9912\n",
      "Epoch 4/15\n",
      "60000/60000 [==============================] - 248s 4ms/step - loss: 0.0251 - acc: 0.9918 - val_loss: 0.0284 - val_acc: 0.9915\n",
      "Epoch 5/15\n",
      "60000/60000 [==============================] - 228s 4ms/step - loss: 0.0225 - acc: 0.9923 - val_loss: 0.0269 - val_acc: 0.9917\n",
      "Epoch 6/15\n",
      "60000/60000 [==============================] - 227s 4ms/step - loss: 0.0227 - acc: 0.9927 - val_loss: 0.0252 - val_acc: 0.9921\n",
      "Epoch 7/15\n",
      "60000/60000 [==============================] - 209s 3ms/step - loss: 0.0203 - acc: 0.9936 - val_loss: 0.0252 - val_acc: 0.9929\n",
      "Epoch 8/15\n",
      "60000/60000 [==============================] - 179s 3ms/step - loss: 0.0189 - acc: 0.9938 - val_loss: 0.0257 - val_acc: 0.9922\n",
      "Epoch 9/15\n",
      "60000/60000 [==============================] - 185s 3ms/step - loss: 0.0177 - acc: 0.9942 - val_loss: 0.0282 - val_acc: 0.9925\n",
      "Epoch 10/15\n",
      "60000/60000 [==============================] - 175s 3ms/step - loss: 0.0173 - acc: 0.9946 - val_loss: 0.0290 - val_acc: 0.9914\n",
      "Epoch 11/15\n",
      "60000/60000 [==============================] - 175s 3ms/step - loss: 0.0161 - acc: 0.9950 - val_loss: 0.0279 - val_acc: 0.9921\n",
      "Epoch 12/15\n",
      "60000/60000 [==============================] - 175s 3ms/step - loss: 0.0147 - acc: 0.9953 - val_loss: 0.0308 - val_acc: 0.9911\n",
      "Epoch 13/15\n",
      "60000/60000 [==============================] - 175s 3ms/step - loss: 0.0153 - acc: 0.9949 - val_loss: 0.0277 - val_acc: 0.9915\n",
      "Epoch 14/15\n",
      "60000/60000 [==============================] - 176s 3ms/step - loss: 0.0158 - acc: 0.9950 - val_loss: 0.0226 - val_acc: 0.9940\n",
      "Epoch 15/15\n",
      "60000/60000 [==============================] - 182s 3ms/step - loss: 0.0142 - acc: 0.9952 - val_loss: 0.0275 - val_acc: 0.9930\n"
     ]
    },
    {
     "data": {
      "text/plain": [
       "<keras.callbacks.History at 0x1837143910>"
      ]
     },
     "execution_count": 155,
     "metadata": {},
     "output_type": "execute_result"
    }
   ],
   "source": [
    "model.fit(X_train, y_train, validation_data = (X_test, y_test), epochs=15, batch_size=100)"
   ]
  },
  {
   "cell_type": "code",
   "execution_count": 156,
   "metadata": {},
   "outputs": [
    {
     "name": "stdout",
     "output_type": "stream",
     "text": [
      "\n",
      "acc: 99.30%\n"
     ]
    }
   ],
   "source": [
    "scores = model.evaluate ( X_test , y_test, verbose = 0 )\n",
    "print ( \"\\nacc: %.2f%%\" % (scores[1] * 100)) \n"
   ]
  },
  {
   "cell_type": "code",
   "execution_count": 175,
   "metadata": {},
   "outputs": [
    {
     "data": {
      "text/plain": [
       "<matplotlib.image.AxesImage at 0x1838be5250>"
      ]
     },
     "execution_count": 175,
     "metadata": {},
     "output_type": "execute_result"
    },
    {
     "data": {
      "image/png": "[encoded data removed]",
      "text/plain": [
       "<matplotlib.figure.Figure at 0x1837d7ab10>"
      ]
     },
     "metadata": {},
     "output_type": "display_data"
    }
   ],
   "source": [
    "img_pred = cv2.imread ('num5.png', cv2.IMREAD_GRAYSCALE)\n",
    "plt.imshow(img_pred, cmap='gray')"
   ]
  },
  {
   "cell_type": "code",
   "execution_count": 176,
   "metadata": {},
   "outputs": [
    {
     "name": "stdout",
     "output_type": "stream",
     "text": [
      "(5, 'with probability of', '100.00 %')\n"
     ]
    }
   ],
   "source": [
    "if img_pred.shape != [ 28 , 28 ]:\n",
    "    img2 = cv2.resize ( img_pred, ( 28 , 28 ) )\n",
    "    img_pred = img2.reshape ( 28 , 28 , - 1 ) ;\n",
    "else :\n",
    "    img_pred = img_pred.reshape ( 28 , 28 , - 1 ) ;\n",
    "    \n",
    "# here also we inform the value for the depth = 1, number of rows and columns, which correspond 28x28 of the image.\n",
    "img_pred = img_pred.reshape( 1 , 1 , 28 , 28 )\n",
    "pred = model.predict_classes(img_pred)\n",
    "pred_proba = model.predict_proba ( img_pred )\n",
    "pred_proba = \"%.2f %%\" % (pred_proba[0][pred] * 100) \n",
    "print (pred[0] , \"with probability of\" , pred_proba )\n"
   ]
  },
  {
   "cell_type": "code",
   "execution_count": null,
   "metadata": {},
   "outputs": [],
   "source": []
  },
  {
   "cell_type": "code",
   "execution_count": null,
   "metadata": {},
   "outputs": [],
   "source": []
  },
  {
   "cell_type": "code",
   "execution_count": null,
   "metadata": {},
   "outputs": [],
   "source": []
  }
 ],
 "metadata": {
  "kernelspec": {
   "display_name": "Python 2",
   "language": "python",
   "name": "python2"
  },
  "language_info": {
   "codemirror_mode": {
    "name": "ipython",
    "version": 2
   },
   "file_extension": ".py",
   "mimetype": "text/x-python",
   "name": "python",
   "nbconvert_exporter": "python",
   "pygments_lexer": "ipython2",
   "version": "2.7.14"
  }
 },
 "nbformat": 4,
 "nbformat_minor": 2
}
